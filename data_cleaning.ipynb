{
 "cells": [
  {
   "cell_type": "code",
   "execution_count": 1,
   "id": "523c1b0f",
   "metadata": {},
   "outputs": [],
   "source": [
    "import pandas as pd\n",
    "import re"
   ]
  },
  {
   "cell_type": "code",
   "execution_count": 2,
   "id": "49b2bc5f",
   "metadata": {},
   "outputs": [
    {
     "name": "stdout",
     "output_type": "stream",
     "text": [
      "<class 'pandas.core.frame.DataFrame'>\n",
      "RangeIndex: 167 entries, 0 to 166\n",
      "Data columns (total 4 columns):\n",
      " #   Column         Non-Null Count  Dtype \n",
      "---  ------         --------------  ----- \n",
      " 0   Author Name    167 non-null    object\n",
      " 1   Type of Work   167 non-null    object\n",
      " 2   Title of Work  167 non-null    object\n",
      " 3   Text           167 non-null    object\n",
      "dtypes: object(4)\n",
      "memory usage: 5.3+ KB\n"
     ]
    }
   ],
   "source": [
    "df = pd.read_csv(\"dataset/premchand.tsv\", sep=\"\\t\")\n",
    "df.head()\n",
    "df.info()"
   ]
  },
  {
   "cell_type": "code",
   "execution_count": 3,
   "id": "2640c67a",
   "metadata": {},
   "outputs": [],
   "source": [
    "text_col = \"Text\" if \"Text\" in df.columns else df.columns[-1]  \n",
    "raw_texts = df[text_col].dropna().astype(str).tolist()\n"
   ]
  },
  {
   "cell_type": "code",
   "execution_count": 4,
   "id": "1920acdc",
   "metadata": {},
   "outputs": [],
   "source": [
    "def clean_text(t):\n",
    "    # Remove Roman numerals or standalone numbers\n",
    "    t = re.sub(r\"\\b\\d+\\b\", \" \", t)\n",
    "    # Remove Devanagari digits (०१२३४५६७८९)\n",
    "    t = re.sub(r\"[०१२३४५६७८९]+\", \" \", t)\n",
    "    # Remove weird symbols like » or decorative marks\n",
    "    t = re.sub(r\"[»“”‘’]\", \" \", t)\n",
    "    # Collapse multiple spaces/newlines\n",
    "    t = re.sub(r\"\\s+\", \" \", t)\n",
    "    # Strip leading/trailing spaces\n",
    "    return t.strip()"
   ]
  },
  {
   "cell_type": "code",
   "execution_count": 5,
   "id": "652db7e5",
   "metadata": {},
   "outputs": [],
   "source": [
    "cleaned_texts = [clean_text(t) for t in raw_texts]\n",
    "\n",
    "final_text = \"\\n\\n\".join(cleaned_texts)\n",
    "\n",
    "MAX_CHARS = 1_200_000  # ~1.2M, a bit larger than Tiny Shakespeare\n",
    "\n",
    "if len(final_text) > MAX_CHARS:\n",
    "    final_text = final_text[:MAX_CHARS]\n"
   ]
  },
  {
   "cell_type": "code",
   "execution_count": 6,
   "id": "3f1c6b59",
   "metadata": {},
   "outputs": [
    {
     "name": "stdout",
     "output_type": "stream",
     "text": [
      "Total characters in cleaned text: 1200000\n"
     ]
    }
   ],
   "source": [
    "with open(\"dataset/input.txt\", \"w\", encoding=\"utf-8\") as f:\n",
    "    f.write(final_text)\n",
    "\n",
    "print(f\"Total characters in cleaned text: {len(final_text)}\")"
   ]
  }
 ],
 "metadata": {
  "kernelspec": {
   "display_name": "Python 3",
   "language": "python",
   "name": "python3"
  },
  "language_info": {
   "codemirror_mode": {
    "name": "ipython",
    "version": 3
   },
   "file_extension": ".py",
   "mimetype": "text/x-python",
   "name": "python",
   "nbconvert_exporter": "python",
   "pygments_lexer": "ipython3",
   "version": "3.12.4"
  }
 },
 "nbformat": 4,
 "nbformat_minor": 5
}
